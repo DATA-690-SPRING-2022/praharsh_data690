{
  "nbformat": 4,
  "nbformat_minor": 0,
  "metadata": {
    "colab": {
      "name": "Hw2_note.ipynb",
      "provenance": [],
      "authorship_tag": "ABX9TyNV3EbVtMhL4oGcVWP5ztpt",
      "include_colab_link": true
    },
    "kernelspec": {
      "name": "python3",
      "display_name": "Python 3"
    },
    "language_info": {
      "name": "python"
    }
  },
  "cells": [
    {
      "cell_type": "markdown",
      "metadata": {
        "id": "view-in-github",
        "colab_type": "text"
      },
      "source": [
        "<a href=\"https://colab.research.google.com/github/p-kolluri/praharsh_data690/blob/main/Hw2_note/assignment_03.ipynb\" target=\"_parent\"><img src=\"https://colab.research.google.com/assets/colab-badge.svg\" alt=\"Open In Colab\"/></a>"
      ]
    },
    {
      "cell_type": "markdown",
      "source": [
        "# In Class practice"
      ],
      "metadata": {
        "id": "fcg1EaI3C_to"
      }
    },
    {
      "cell_type": "code",
      "execution_count": 1,
      "metadata": {
        "id": "asM34N2PC362"
      },
      "outputs": [],
      "source": [
        "def min_max_list(numbers, min_max):\n",
        "   if min_max == \"min\":\n",
        "      min = numbers[0]\n",
        "      for num in numbers:\n",
        "          if min > num:\n",
        "             min = num\n",
        "      print(min)\n",
        "\n",
        "   elif min_max ==\"max\":\n",
        "      max = numbers[0]\n",
        "\n",
        "      for num in numbers:\n",
        "          if max < num :\n",
        "             max = num\n",
        "      print(max)\n",
        "   else:\n",
        "      print(\"Please enter 'min' or 'max'\")"
      ]
    },
    {
      "cell_type": "code",
      "source": [
        "x = min_max_list([1,2,3,4,5,6], \"min\")\n",
        "\n",
        "x**2"
      ],
      "metadata": {
        "colab": {
          "base_uri": "https://localhost:8080/",
          "height": 217
        },
        "id": "EZhKGHRZDC6x",
        "outputId": "1810a11d-dd82-425c-bf6f-26b142321c5d"
      },
      "execution_count": 2,
      "outputs": [
        {
          "output_type": "stream",
          "name": "stdout",
          "text": [
            "1\n"
          ]
        },
        {
          "output_type": "error",
          "ename": "TypeError",
          "evalue": "ignored",
          "traceback": [
            "\u001b[0;31m---------------------------------------------------------------------------\u001b[0m",
            "\u001b[0;31mTypeError\u001b[0m                                 Traceback (most recent call last)",
            "\u001b[0;32m<ipython-input-2-e3893f189e1a>\u001b[0m in \u001b[0;36m<module>\u001b[0;34m()\u001b[0m\n\u001b[1;32m      1\u001b[0m \u001b[0mx\u001b[0m \u001b[0;34m=\u001b[0m \u001b[0mmin_max_list\u001b[0m\u001b[0;34m(\u001b[0m\u001b[0;34m[\u001b[0m\u001b[0;36m1\u001b[0m\u001b[0;34m,\u001b[0m\u001b[0;36m2\u001b[0m\u001b[0;34m,\u001b[0m\u001b[0;36m3\u001b[0m\u001b[0;34m,\u001b[0m\u001b[0;36m4\u001b[0m\u001b[0;34m,\u001b[0m\u001b[0;36m5\u001b[0m\u001b[0;34m,\u001b[0m\u001b[0;36m6\u001b[0m\u001b[0;34m]\u001b[0m\u001b[0;34m,\u001b[0m \u001b[0;34m\"min\"\u001b[0m\u001b[0;34m)\u001b[0m\u001b[0;34m\u001b[0m\u001b[0;34m\u001b[0m\u001b[0m\n\u001b[1;32m      2\u001b[0m \u001b[0;34m\u001b[0m\u001b[0m\n\u001b[0;32m----> 3\u001b[0;31m \u001b[0mx\u001b[0m\u001b[0;34m**\u001b[0m\u001b[0;36m2\u001b[0m\u001b[0;34m\u001b[0m\u001b[0;34m\u001b[0m\u001b[0m\n\u001b[0m",
            "\u001b[0;31mTypeError\u001b[0m: unsupported operand type(s) for ** or pow(): 'NoneType' and 'int'"
          ]
        }
      ]
    },
    {
      "cell_type": "code",
      "source": [
        "type(x)"
      ],
      "metadata": {
        "colab": {
          "base_uri": "https://localhost:8080/"
        },
        "id": "KHOEf_QADQ09",
        "outputId": "c06954a2-11c2-4446-c7e2-e712d962cc49"
      },
      "execution_count": 3,
      "outputs": [
        {
          "output_type": "execute_result",
          "data": {
            "text/plain": [
              "NoneType"
            ]
          },
          "metadata": {},
          "execution_count": 3
        }
      ]
    },
    {
      "cell_type": "code",
      "source": [
        "min_max_list([1,2,3,4,5,6], \"max\")"
      ],
      "metadata": {
        "colab": {
          "base_uri": "https://localhost:8080/"
        },
        "id": "OCwM9SevDh_9",
        "outputId": "93caf252-5846-497f-bec2-1f31d1d225db"
      },
      "execution_count": 4,
      "outputs": [
        {
          "output_type": "stream",
          "name": "stdout",
          "text": [
            "6\n"
          ]
        }
      ]
    },
    {
      "cell_type": "code",
      "source": [
        "def min(numbers):\n",
        "    min = numbers[0]\n",
        "\n",
        "    for num in numbers:\n",
        "        if min > num:\n",
        "            min = num\n",
        "            \n",
        "    return min"
      ],
      "metadata": {
        "id": "RWVSImPZDiYG"
      },
      "execution_count": 5,
      "outputs": []
    },
    {
      "cell_type": "code",
      "source": [
        "def max(numbers):\n",
        "    max = numbers[0]\n",
        "\n",
        "    for num in numbers:\n",
        "        if max < num :\n",
        "            max = num\n",
        "\n",
        "    return max"
      ],
      "metadata": {
        "id": "RDCqUQg3DngF"
      },
      "execution_count": 6,
      "outputs": []
    },
    {
      "cell_type": "code",
      "source": [
        "x = max([1,2,3,4,5,6])\n",
        "print(x)"
      ],
      "metadata": {
        "colab": {
          "base_uri": "https://localhost:8080/"
        },
        "id": "WOd_xl35Dn7U",
        "outputId": "7ed0939a-d0ad-4627-da35-a758fa4ce9d3"
      },
      "execution_count": 7,
      "outputs": [
        {
          "output_type": "stream",
          "name": "stdout",
          "text": [
            "6\n"
          ]
        }
      ]
    }
  ]
}
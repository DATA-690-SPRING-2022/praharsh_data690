{
  "nbformat": 4,
  "nbformat_minor": 0,
  "metadata": {
    "colab": {
      "name": "Assignment690_02.ipynb",
      "provenance": [],
      "include_colab_link": true
    },
    "kernelspec": {
      "name": "python3",
      "display_name": "Python 3"
    },
    "language_info": {
      "name": "python"
    }
  },
  "cells": [
    {
      "cell_type": "markdown",
      "metadata": {
        "id": "view-in-github",
        "colab_type": "text"
      },
      "source": [
        "<a href=\"https://colab.research.google.com/github/p-kolluri/praharsh_data690/blob/main/assignment_02/Assignment690_02.ipynb\" target=\"_parent\"><img src=\"https://colab.research.google.com/assets/colab-badge.svg\" alt=\"Open In Colab\"/></a>"
      ]
    },
    {
      "cell_type": "markdown",
      "source": [
        "# Calculating the maximum, minimum, range, mean, variance and standard deviation from a given set of 10 integers."
      ],
      "metadata": {
        "id": "peeY-QZFz1oS"
      }
    },
    {
      "cell_type": "markdown",
      "source": [
        "***Checking if the given user input is an integer and number of integers to be 10.***"
      ],
      "metadata": {
        "id": "El9v5Wro5Of3"
      }
    },
    {
      "cell_type": "code",
      "source": [
        "a = []\n",
        "while(len(a) < 10):\n",
        "  try:\n",
        "    integer = int(input(\"Enter the integer: \"))\n",
        "    a.append(integer)\n",
        "  except:\n",
        "    print(\"The entered value is not a valid integer, please enter a valid integer.\")\n",
        "print(\"The entered numbers are: \", a)"
      ],
      "metadata": {
        "id": "RTraGhEbyMw3",
        "colab": {
          "base_uri": "https://localhost:8080/"
        },
        "outputId": "0d2d8964-6a94-4192-ac02-ff6afc3f86fc"
      },
      "execution_count": 14,
      "outputs": [
        {
          "output_type": "stream",
          "name": "stdout",
          "text": [
            "Enter the integer: 1\n",
            "Enter the integer: 2\n",
            "Enter the integer: a\n",
            "The entered value is not a valid integer, please enter a valid integer.\n",
            "Enter the integer: 3\n",
            "Enter the integer: 4\n",
            "Enter the integer: 5\n",
            "Enter the integer: b\n",
            "The entered value is not a valid integer, please enter a valid integer.\n",
            "Enter the integer: 6\n",
            "Enter the integer: 7\n",
            "Enter the integer: 8\n",
            "Enter the integer: 9\n",
            "Enter the integer: 10\n",
            "The entered numbers are:  [1, 2, 3, 4, 5, 6, 7, 8, 9, 10]\n"
          ]
        }
      ]
    },
    {
      "cell_type": "markdown",
      "source": [
        "***Calculating the max,min and the range.***"
      ],
      "metadata": {
        "id": "aedCmGeq6kp0"
      }
    },
    {
      "cell_type": "code",
      "source": [
        "\n",
        "for i in range(10):\n",
        "  for j in range(i,10):\n",
        "    if a[i]>a[j]:\n",
        "      temp=a[i]\n",
        "      a[i]=a[j]\n",
        "      a[j]=temp\n",
        "print(\"**************\")\n",
        "print(\"Minimum:\"+str(a[0]))\n",
        "print(\"Maximum:\"+str(a[-1]))\n",
        "print(\"Range:\"+str(a[0])+\" to \"+str(a[-1]))"
      ],
      "metadata": {
        "colab": {
          "base_uri": "https://localhost:8080/"
        },
        "id": "91f136k54F36",
        "outputId": "5a3dd3f5-919a-4b2d-9c2e-264b3e32c09c"
      },
      "execution_count": 15,
      "outputs": [
        {
          "output_type": "stream",
          "name": "stdout",
          "text": [
            "**************\n",
            "Minimum:1\n",
            "Maximum:10\n",
            "Range:1 to 10\n"
          ]
        }
      ]
    },
    {
      "cell_type": "markdown",
      "source": [
        "***Calculating the mean.***"
      ],
      "metadata": {
        "id": "pGTugat36tom"
      }
    },
    {
      "cell_type": "code",
      "source": [
        "\n",
        "sum=0\n",
        "for i in a:\n",
        "  sum=sum+i\n",
        "mean=sum/len(a)\n",
        "print(\"Mean:\"+str(mean))"
      ],
      "metadata": {
        "colab": {
          "base_uri": "https://localhost:8080/"
        },
        "id": "XafKh3fQ4aVd",
        "outputId": "a7d66ec8-55fc-4ec6-f506-6f6f9be61c1f"
      },
      "execution_count": 16,
      "outputs": [
        {
          "output_type": "stream",
          "name": "stdout",
          "text": [
            "Mean:5.5\n"
          ]
        }
      ]
    },
    {
      "cell_type": "markdown",
      "source": [
        "***Calculating the variance and standard deviation.***"
      ],
      "metadata": {
        "id": "cez-RgQr63CG"
      }
    },
    {
      "cell_type": "code",
      "source": [
        "\n",
        "import math\n",
        "sum=0\n",
        "for i in a:\n",
        "  sum=sum+((i-mean)*(i-mean))\n",
        "variance=sum/len(a)\n",
        "print(\"Variance:\"+str(variance))\n",
        "\n",
        "print(\"Standard Deviation:\"+str(round(math.sqrt(variance))))\n"
      ],
      "metadata": {
        "colab": {
          "base_uri": "https://localhost:8080/"
        },
        "id": "-Z_yYIqv4qwJ",
        "outputId": "df6b6fd2-1755-4ad2-f92d-e70ad7bf6efc"
      },
      "execution_count": 17,
      "outputs": [
        {
          "output_type": "stream",
          "name": "stdout",
          "text": [
            "Variance:8.25\n",
            "Standard Deviation:3\n"
          ]
        }
      ]
    },
    {
      "cell_type": "markdown",
      "source": [
        "References :\n",
        "\n",
        "https://www.youtube.com/watch?v=MImAiZIzzd4\n",
        "\n",
        "https://www.tutorialbrain.com/python-try-except/"
      ],
      "metadata": {
        "id": "rAVWdndi7qD1"
      }
    }
  ]
}
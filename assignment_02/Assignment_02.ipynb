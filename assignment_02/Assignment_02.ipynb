{
  "nbformat": 4,
  "nbformat_minor": 0,
  "metadata": {
    "colab": {
      "name": "Assignment_02.ipynb",
      "provenance": []
    },
    "kernelspec": {
      "name": "python3",
      "display_name": "Python 3"
    },
    "language_info": {
      "name": "python"
    }
  },
  "cells": [
    {
      "cell_type": "markdown",
      "source": [
        "# Calculating the maximum, minimum, range, mean, variance and standard deviation from a given set of 10 integers."
      ],
      "metadata": {
        "id": "peeY-QZFz1oS"
      }
    },
    {
      "cell_type": "code",
      "execution_count": 49,
      "metadata": {
        "id": "6tVVY5120aAC",
        "colab": {
          "base_uri": "https://localhost:8080/"
        },
        "outputId": "b5322876-189c-4631-de87-e6fac637730a"
      },
      "outputs": [
        {
          "output_type": "stream",
          "name": "stdout",
          "text": [
            "Enter integer 1:\n",
            "2\n",
            "Enter integer 2:\n",
            "2\n",
            "Enter integer 3:\n",
            "3\n",
            "Enter integer 4:\n",
            "3\n",
            "Enter integer 5:\n",
            "3\n",
            "Enter integer 6:\n",
            "3\n",
            "Enter integer 7:\n",
            "3\n",
            "Enter integer 8:\n",
            "3\n",
            "Enter integer 9:\n",
            "3\n",
            "Enter integer 10:\n",
            "3\n",
            "Your final set of integers:\n",
            "2\n",
            "2\n",
            "3\n",
            "3\n",
            "3\n",
            "3\n",
            "3\n",
            "3\n",
            "3\n",
            "3\n",
            "**************\n",
            "Minimum:2\n",
            "Maximum:3\n",
            "Range:2 to 3\n",
            "Mean:2.8\n",
            "Variance:0.15999999999999998\n",
            "Standard Deviation:0\n"
          ]
        }
      ],
      "source": [
        "## Taking inputs from the user\n",
        "flag=0\n",
        "i=0\n",
        "a=[]\n",
        "while(len(a)<10):\n",
        "  print(\"Enter integer \"+str(i+1)+\":\")\n",
        "  val=input()\n",
        "  a.append(val)\n",
        "  i+=1\n",
        "\n",
        "## Checking if the given user input is an integer \n",
        "for i in range(10):\n",
        "  if a[i].isdigit():\n",
        "    continue\n",
        "## Prompting the user to enter an integer if the user input is not an integer\n",
        "  else:\n",
        "    print(str(a[i])+\" is not an integer, enter integer \"+str(i+1)+\":\")\n",
        "    while (1):\n",
        "      a[i]=input()\n",
        "      if a[i].isdigit():\n",
        "        break\n",
        "      else:\n",
        "        print(str(a[i])+\"is not an integer, enter integer \"+str(i+1)+\":\")\n",
        "print(\"Your final set of integers:\")\n",
        "for i in range(10):\n",
        "  a[i]=int(a[i])\n",
        "  print(a[i])\n",
        "## Calculating the max,min and the range\n",
        "for i in range(10):\n",
        "  for j in range(i,10):\n",
        "    if a[i]>a[j]:\n",
        "      temp=a[i]\n",
        "      a[i]=a[j]\n",
        "      a[j]=temp\n",
        "print(\"**************\")\n",
        "print(\"Minimum:\"+str(a[0]))\n",
        "print(\"Maximum:\"+str(a[-1]))\n",
        "print(\"Range:\"+str(a[0])+\" to \"+str(a[-1]))\n",
        "## Calculating the mean\n",
        "sum=0\n",
        "for i in a:\n",
        "  sum=sum+i\n",
        "mean=sum/len(a)\n",
        "print(\"Mean:\"+str(mean))\n",
        "## Calculating the variance and standard deviation\n",
        "import math\n",
        "sum=0\n",
        "for i in a:\n",
        "  sum=sum+((i-mean)*(i-mean))\n",
        "variance=sum/len(a)\n",
        "print(\"Variance:\"+str(variance))\n",
        "\n",
        "print(\"Standard Deviation:\"+str(round(math.sqrt(variance))))\n",
        "\n",
        "\n",
        "\n",
        "\n"
      ]
    }
  ]
}
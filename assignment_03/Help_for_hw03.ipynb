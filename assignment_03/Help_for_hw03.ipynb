{
  "nbformat": 4,
  "nbformat_minor": 0,
  "metadata": {
    "colab": {
      "name": "Help for hw03.ipynb",
      "provenance": [],
      "authorship_tag": "ABX9TyOm0bKrywLPEE7DkRoTuJb0",
      "include_colab_link": true
    },
    "kernelspec": {
      "name": "python3",
      "display_name": "Python 3"
    },
    "language_info": {
      "name": "python"
    }
  },
  "cells": [
    {
      "cell_type": "markdown",
      "metadata": {
        "id": "view-in-github",
        "colab_type": "text"
      },
      "source": [
        "<a href=\"https://colab.research.google.com/github/p-kolluri/praharsh_data690/blob/main/assignment_03/Help_for_hw03.ipynb\" target=\"_parent\"><img src=\"https://colab.research.google.com/assets/colab-badge.svg\" alt=\"Open In Colab\"/></a>"
      ]
    },
    {
      "cell_type": "markdown",
      "source": [
        "# In class practice\n",
        "Name : Praharsh Kolluri\n",
        "\n",
        "Date : 2/14/2022"
      ],
      "metadata": {
        "id": "KR127uaL3OZd"
      }
    },
    {
      "cell_type": "code",
      "source": [
        "import random"
      ],
      "metadata": {
        "id": "lzuDy80X0d-T"
      },
      "execution_count": 18,
      "outputs": []
    },
    {
      "cell_type": "code",
      "execution_count": 1,
      "metadata": {
        "colab": {
          "base_uri": "https://localhost:8080/"
        },
        "id": "GlDYsUsfxDxv",
        "outputId": "e6ee7182-357c-4666-cb85-cabe945df21c"
      },
      "outputs": [
        {
          "output_type": "stream",
          "name": "stdout",
          "text": [
            "[2, 8, 12, 'praharsh', 'kolluri']\n"
          ]
        }
      ],
      "source": [
        "x = [2,8,12, \"praharsh\", \"kolluri\"]\n",
        "print(x)"
      ]
    },
    {
      "cell_type": "code",
      "source": [
        "for a in x:\n",
        "    print(a, end=\" * \")"
      ],
      "metadata": {
        "colab": {
          "base_uri": "https://localhost:8080/"
        },
        "id": "opEVNjSuy7rr",
        "outputId": "f05ef3ce-5a3f-4cb6-b78f-325fda9d363d"
      },
      "execution_count": 17,
      "outputs": [
        {
          "output_type": "stream",
          "name": "stdout",
          "text": [
            "2 * 8 * 12 * praharsh * kolluri * "
          ]
        }
      ]
    },
    {
      "cell_type": "code",
      "source": [
        "\"8\" in x"
      ],
      "metadata": {
        "colab": {
          "base_uri": "https://localhost:8080/"
        },
        "id": "3vgRq_MTxPJP",
        "outputId": "13b56581-6ede-4f21-f1c3-ff9f8e83384b"
      },
      "execution_count": 2,
      "outputs": [
        {
          "output_type": "execute_result",
          "data": {
            "text/plain": [
              "False"
            ]
          },
          "metadata": {},
          "execution_count": 2
        }
      ]
    },
    {
      "cell_type": "code",
      "source": [
        "8 in x"
      ],
      "metadata": {
        "colab": {
          "base_uri": "https://localhost:8080/"
        },
        "id": "ESrQxX6Fx1pz",
        "outputId": "603e78ee-7b75-4031-f260-1287da7cf573"
      },
      "execution_count": 3,
      "outputs": [
        {
          "output_type": "execute_result",
          "data": {
            "text/plain": [
              "True"
            ]
          },
          "metadata": {},
          "execution_count": 3
        }
      ]
    },
    {
      "cell_type": "code",
      "source": [
        "\"p\" in x"
      ],
      "metadata": {
        "colab": {
          "base_uri": "https://localhost:8080/"
        },
        "id": "1e9KepHkx3WK",
        "outputId": "ab3fd73d-2af7-4e66-88dd-7721010badc8"
      },
      "execution_count": 4,
      "outputs": [
        {
          "output_type": "execute_result",
          "data": {
            "text/plain": [
              "False"
            ]
          },
          "metadata": {},
          "execution_count": 4
        }
      ]
    },
    {
      "cell_type": "code",
      "source": [
        "\"praharsh\" in x"
      ],
      "metadata": {
        "colab": {
          "base_uri": "https://localhost:8080/"
        },
        "id": "s3Ifn-APx6Rm",
        "outputId": "8500e655-69fa-4709-cf0c-c53b745e130a"
      },
      "execution_count": 5,
      "outputs": [
        {
          "output_type": "execute_result",
          "data": {
            "text/plain": [
              "True"
            ]
          },
          "metadata": {},
          "execution_count": 5
        }
      ]
    },
    {
      "cell_type": "code",
      "source": [
        "if 8 in x:\n",
        "    print(\"8 is a member of a list x\")\n",
        "else:\n",
        "    print(\"8 is not a member\")    "
      ],
      "metadata": {
        "colab": {
          "base_uri": "https://localhost:8080/"
        },
        "id": "NSvSTT--x9R_",
        "outputId": "bc8a3c34-3ee5-46b3-935f-ea4a3194ec47"
      },
      "execution_count": 9,
      "outputs": [
        {
          "output_type": "stream",
          "name": "stdout",
          "text": [
            "8 is a member of a list x\n"
          ]
        }
      ]
    },
    {
      "cell_type": "code",
      "source": [
        "y = [5, 1, 5, 6, 2, 7, 8, 6, 4, 2 ]\n",
        "\n",
        "print(y)"
      ],
      "metadata": {
        "colab": {
          "base_uri": "https://localhost:8080/"
        },
        "id": "B5fA2-GjymrJ",
        "outputId": "3d6e002a-6458-46ed-b7c0-917ee5cc1ef9"
      },
      "execution_count": 12,
      "outputs": [
        {
          "output_type": "stream",
          "name": "stdout",
          "text": [
            "[5, 1, 5, 6, 2, 7, 8, 6, 4, 2]\n"
          ]
        }
      ]
    },
    {
      "cell_type": "code",
      "source": [
        "for b in y:\n",
        "    print(b)"
      ],
      "metadata": {
        "colab": {
          "base_uri": "https://localhost:8080/"
        },
        "id": "QbogvuuvzUcj",
        "outputId": "0ff55d70-2d98-44b0-ecf3-314d2c28a73a"
      },
      "execution_count": 14,
      "outputs": [
        {
          "output_type": "stream",
          "name": "stdout",
          "text": [
            "5\n",
            "1\n",
            "5\n",
            "6\n",
            "2\n",
            "7\n",
            "8\n",
            "6\n",
            "4\n",
            "2\n"
          ]
        }
      ]
    },
    {
      "cell_type": "code",
      "source": [
        "for b in y:\n",
        "    print(b, end=\" \")"
      ],
      "metadata": {
        "colab": {
          "base_uri": "https://localhost:8080/"
        },
        "id": "MY2u5Nup0Oo7",
        "outputId": "b92fb005-c198-48af-bec4-bd74ae036fe3"
      },
      "execution_count": 15,
      "outputs": [
        {
          "output_type": "stream",
          "name": "stdout",
          "text": [
            "5 1 5 6 2 7 8 6 4 2 "
          ]
        }
      ]
    },
    {
      "cell_type": "code",
      "source": [
        "random.randint(0, 5)"
      ],
      "metadata": {
        "colab": {
          "base_uri": "https://localhost:8080/"
        },
        "id": "0HnSDn0_0y_H",
        "outputId": "b3999fad-5bfe-4a4a-d346-0d017b39d51f"
      },
      "execution_count": 19,
      "outputs": [
        {
          "output_type": "execute_result",
          "data": {
            "text/plain": [
              "2"
            ]
          },
          "metadata": {},
          "execution_count": 19
        }
      ]
    },
    {
      "cell_type": "code",
      "source": [
        "for i in range(10):\n",
        "    print(random.randint(0,5), end=\" \")"
      ],
      "metadata": {
        "colab": {
          "base_uri": "https://localhost:8080/"
        },
        "id": "R6Md1HpW05vS",
        "outputId": "15499fa2-0a19-4048-9c09-67f4143c5b45"
      },
      "execution_count": 24,
      "outputs": [
        {
          "output_type": "stream",
          "name": "stdout",
          "text": [
            "4 5 3 3 0 1 3 2 5 5 "
          ]
        }
      ]
    },
    {
      "cell_type": "code",
      "source": [
        "for j in range(10):\n",
        "    for i in range(10):\n",
        "        print(random.randint(0,5), end=\" \")\n",
        "    print(\"\")"
      ],
      "metadata": {
        "colab": {
          "base_uri": "https://localhost:8080/"
        },
        "id": "F5P8RxTX1GkL",
        "outputId": "a987f7e2-1234-4ca2-f038-09599109606d"
      },
      "execution_count": 28,
      "outputs": [
        {
          "output_type": "stream",
          "name": "stdout",
          "text": [
            "1 0 3 2 0 0 0 1 0 0 \n",
            "4 5 4 2 0 2 3 2 0 4 \n",
            "4 0 0 5 2 0 5 3 3 3 \n",
            "5 3 3 2 5 3 0 2 4 1 \n",
            "0 5 4 2 0 4 4 0 0 5 \n",
            "1 1 2 4 2 5 5 3 2 0 \n",
            "0 2 4 1 5 0 1 3 5 5 \n",
            "2 3 3 3 2 1 2 3 0 5 \n",
            "1 4 4 3 3 5 0 3 1 0 \n",
            "1 2 4 3 2 3 1 1 5 2 \n"
          ]
        }
      ]
    }
  ]
}
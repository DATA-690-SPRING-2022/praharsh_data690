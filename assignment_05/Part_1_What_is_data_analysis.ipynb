{
  "nbformat": 4,
  "nbformat_minor": 0,
  "metadata": {
    "colab": {
      "name": "Part_1 - What_is_data_analysis.ipynb",
      "provenance": [],
      "authorship_tag": "ABX9TyMiaSqZC15SDAyr42X8xnNw",
      "include_colab_link": true
    },
    "kernelspec": {
      "name": "python3",
      "display_name": "Python 3"
    },
    "language_info": {
      "name": "python"
    }
  },
  "cells": [
    {
      "cell_type": "markdown",
      "metadata": {
        "id": "view-in-github",
        "colab_type": "text"
      },
      "source": [
        "<a href=\"https://colab.research.google.com/github/p-kolluri/praharsh_data690/blob/main/assignment_05/Part_1_What_is_data_analysis.ipynb\" target=\"_parent\"><img src=\"https://colab.research.google.com/assets/colab-badge.svg\" alt=\"Open In Colab\"/></a>"
      ]
    },
    {
      "cell_type": "markdown",
      "source": [
        "# Assignment 05: Part 1- What is Data analysis?\n",
        "\n",
        "Name : Praharsh Kolluri"
      ],
      "metadata": {
        "id": "oDXBDcQHugy-"
      }
    },
    {
      "cell_type": "markdown",
      "source": [
        "# What is Data Analysis.?"
      ],
      "metadata": {
        "id": "j7EUxSKRt-wt"
      }
    },
    {
      "cell_type": "markdown",
      "source": [
        "A process of inspecting, cleansing, transforming and modeling data with the goal of discovering useful information, informing conclusion, and supporting decision-making."
      ],
      "metadata": {
        "id": "BeRQl0iKuHwr"
      }
    },
    {
      "cell_type": "markdown",
      "source": [
        "# Data Analysis Tools."
      ],
      "metadata": {
        "id": "6nBWRu6VvhLz"
      }
    },
    {
      "cell_type": "markdown",
      "source": [
        "## Auto-managed closed tools\n",
        "\n",
        "\n",
        "*   QlikQ\n",
        "*   tableau\n",
        "*   looker\n",
        "*   zoho analytics\n",
        "\n",
        ".\n",
        "\n",
        "👍Pros:\n",
        "\n",
        "\n",
        "\n",
        "⚡   Easy to learn.\n",
        "\n",
        "\n",
        ".\n",
        "\n",
        "👎Cons:\n",
        "\n",
        "\n",
        "\n",
        "⚡   Closed source.\n",
        "\n",
        "⚡   Expensive.\n",
        "\n",
        "⚡   Limited.\n",
        "\n",
        "\n",
        "\n",
        "\n",
        "\n",
        "\n",
        "\n",
        "\n",
        "\n",
        "## Programming tools\n",
        "\n",
        "\n",
        "*   python\n",
        "*   R\n",
        "*   julia\n",
        "\n",
        ".\n",
        "\n",
        "👍Pros:\n",
        "\n",
        "⚡ Open Source.\n",
        "\n",
        "⚡ Free(or very cheap).\n",
        "\n",
        ".\n",
        "\n",
        "👎Cons:\n",
        "\n",
        "⚡ Extremely powerful.\n",
        "\n",
        "⚡ Steep learning curve.\n",
        "\n",
        "\n",
        "\n"
      ],
      "metadata": {
        "id": "i2o7C8juvsfa"
      }
    },
    {
      "cell_type": "markdown",
      "source": [
        "# Why Python for data analysis.?\n",
        "\n",
        "⚡ Simple and intuitive to learn.\n",
        "\n",
        "⚡ \"Correct\" language.\n",
        "\n",
        "⚡ Powerful libraries.\n",
        "\n",
        "⚡ Free and open source.\n",
        "\n",
        "⚡ Amazing community with good documentation and conferencing."
      ],
      "metadata": {
        "id": "Ivd_iTvwwivf"
      }
    },
    {
      "cell_type": "markdown",
      "source": [
        "# When to use R.?\n",
        "\n",
        "⚡ When R Studio is needed.\n",
        "\n",
        "⚡ When dealing with advanced statistical methods.\n",
        "\n",
        "⚡When extreme performance needed."
      ],
      "metadata": {
        "id": "Mj_xtibAuPYp"
      }
    },
    {
      "cell_type": "markdown",
      "source": [
        "# Data Analysis Process:\n",
        "\n",
        "⚡ Data Extraction.\n",
        "\n",
        "⚡ Data Cleaning.\n",
        "\n",
        "⚡ Data Wrangling.\n",
        "\n",
        "⚡ Analysis.\n",
        "\n"
      ],
      "metadata": {
        "id": "efadK97hxsD4"
      }
    },
    {
      "cell_type": "markdown",
      "source": [
        "# Python & PyData Ecosystem.\n",
        "\n",
        "Libraries generally used for data science:\n",
        "\n",
        "⚡ pandas: data analysis foundation library\n",
        "\n",
        "⚡ matplotlib: visualization foundation library\n",
        "\n",
        "⚡ numpy: numeric library/foundation for calculation\n",
        "\n",
        "⚡ seaborn: visualization tool built on top of matplotlib\n",
        "\n",
        "⚡ statsmodels: library with many advanced statistical functions\n",
        "\n",
        "⚡ scipy: advanced scientific computing, with functions for optimization, linear algebra, image processing, etc\n",
        "\n",
        "⚡ scikit-learn: most popular machine learning library for Python (not deep learning)"
      ],
      "metadata": {
        "id": "XD5usO34z1lY"
      }
    },
    {
      "cell_type": "markdown",
      "source": [
        "# Finally..why add Python to data analysis skills.?\n",
        "\n",
        "Data analysists who know python are paid 20% more than those who don't."
      ],
      "metadata": {
        "id": "FH-QwLID1jKS"
      }
    }
  ]
}